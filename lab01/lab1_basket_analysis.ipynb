{
 "cells": [
  {
   "cell_type": "markdown",
   "metadata": {},
   "source": [
    "# Laboratorium 1 - analiza koszykowa\n",
    "\n",
    "## Przygotowanie\n",
    "\n",
    " * pobierz i wypakuj dataset: https://kaggle.com/datasets/rashikrahmanpritom/groceries-dataset-for-market-basket-analysismba?resource=download&select=basket.csv\n",
    "   * alternatywnie, pobierz plik `basket.csv` z Teamsów\n",
    " * [opcjonalnie] Utwórz wirtualne środowisko\n",
    " `python3 -m venv ./recsyslab1`\n",
    " * zainstaluj potrzebne biblioteki:\n",
    " `pip install more-itertools`"
   ]
  },
  {
   "cell_type": "markdown",
   "metadata": {},
   "source": [
    "## Część 1. - przygotowanie danych"
   ]
  },
  {
   "cell_type": "code",
   "execution_count": 4,
   "metadata": {},
   "outputs": [],
   "source": [
    "# importujemy wszystkie potrzebne pakiety\n",
    "\n",
    "from more_itertools import powerset"
   ]
  },
  {
   "cell_type": "code",
   "execution_count": 5,
   "metadata": {},
   "outputs": [],
   "source": [
    "# definiujemy stale\n",
    "\n",
    "PATH = './basket.csv'\n",
    "EPSILON = 0.001\n",
    "K = 4"
   ]
  },
  {
   "cell_type": "code",
   "execution_count": 6,
   "metadata": {},
   "outputs": [],
   "source": [
    "# wczytujemy dane o koszykach\n",
    "\n",
    "def read_baskets(path: str) -> list[tuple[str]]:\n",
    "    with open(path) as f:\n",
    "        raw = f.read()\n",
    "    baskets = [set([y.lower() for y in x.split(',') if y]) for x in raw.split('\\n')[1:] if x]\n",
    "    return baskets\n",
    "\n",
    "def unique_products(baskets: list[tuple[str]]) -> list[str]:\n",
    "    products = set()\n",
    "    for basket in baskets:\n",
    "        products.update(basket)\n",
    "    return sorted(list(products))\n",
    "\n",
    "baskets = read_baskets(PATH)\n",
    "products = unique_products(baskets)"
   ]
  },
  {
   "cell_type": "markdown",
   "metadata": {},
   "source": [
    "## Część 2. - obliczanie wskaźników"
   ]
  },
  {
   "cell_type": "code",
   "execution_count": null,
   "metadata": {},
   "outputs": [],
   "source": [
    "# obliczamy strukture danych (np. slownik albo graf) przechowujaca wszystkie interesujace wartosci `support`\n",
    "\n",
    "def get_supports(baskets: list[tuple[str]], all_products: list[str], epsilon: float):\n",
    "    \n",
    "    \n",
    "supports = get_supports(baskets, products, EPSILON)\n",
    "supports"
   ]
  },
  {
   "cell_type": "code",
   "execution_count": null,
   "metadata": {},
   "outputs": [],
   "source": [
    "# definiujemy funkcje obliczajace support, confidence i lift\n",
    "\n",
    "def support(supports, products: tuple[str]) -> float:\n",
    "    products_set = frozenset(products)\n",
    "    if (products_set not in supports):\n",
    "        supports[products_set] = sum([products_set.issubset(set(transaction)) for transaction in baskets]) / len(baskets)\n",
    "    return supports[products_set]\n",
    "\n",
    "def confidence(supports, prior_products: tuple[str], following_products: tuple[str]) -> float:\n",
    "    products_sum_set = set(prior_products + following_products)\n",
    "    return support(supports, tuple(products_sum_set)) / support(supports, tuple(prior_products))\n",
    "    \n",
    "def lift(supports, prior_products: tuple[str], following_products: tuple[str]) -> float:\n",
    "    raise NotImplementedError()"
   ]
  },
  {
   "cell_type": "code",
   "execution_count": null,
   "metadata": {},
   "outputs": [],
   "source": [
    "print(support(supports, {'whole milk', 'rolls/buns'}))\n",
    "print(confidence(supports, {'whole milk', 'rolls/buns'}, {'yogurt'}))\n",
    "print(lift(supports, {'whole milk', 'rolls/buns'}, {'yogurt'}))"
   ]
  },
  {
   "cell_type": "markdown",
   "metadata": {},
   "source": [
    "## Część 3. - generowanie rekomendacji"
   ]
  },
  {
   "cell_type": "code",
   "execution_count": null,
   "metadata": {},
   "outputs": [],
   "source": [
    "# wyznaczamy liste potencjalnych rekomendacji\n",
    "# rekomendowane artykuly powinny miec lift > 1 i jak najwyzszy confidence\n",
    "\n",
    "def generate_basic_candidates(basket: tuple[str], products: list[str], supports) -> list[tuple[str, tuple[str], float, float]]:\n",
    "    # return [(item, subbasket, confidence, lift)]\n",
    "    raise NotImplementedError()"
   ]
  },
  {
   "cell_type": "code",
   "execution_count": null,
   "metadata": {},
   "outputs": [],
   "source": [
    "# zaproponuj drugi, bardziej zaawansowany algorytm, np.:\n",
    "# - jesli produkt X wystepuje w liscie kandydatow kilkukrotnie, oblicz srednia lub iloczyn confidence\n",
    "# - posortuj kandydatow po iloczynie configence i lift\n",
    "\n",
    "def generate_advanced_candidates(basket: tuple[str], products: list[str], supports) -> list[tuple[str, tuple[str], float, float]]:\n",
    "    # return [(item, subbasket, confidence, lift)]\n",
    "    raise NotImplementedError()"
   ]
  },
  {
   "cell_type": "code",
   "execution_count": null,
   "metadata": {},
   "outputs": [],
   "source": [
    "print(baskets[1])\n",
    "generate_basic_candidates(baskets[1], products, supports)\n",
    "generate_advanced_candidates(baskets[1], products, supports)"
   ]
  },
  {
   "cell_type": "code",
   "execution_count": null,
   "metadata": {},
   "outputs": [],
   "source": [
    "print(baskets[33])\n",
    "generate_basic_candidates(baskets[33], products, supports)\n",
    "generate_advanced_candidates(baskets[33], products, supports)"
   ]
  }
 ],
 "metadata": {
  "kernelspec": {
   "display_name": "Python 3",
   "language": "python",
   "name": "python3"
  },
  "language_info": {
   "codemirror_mode": {
    "name": "ipython",
    "version": 3
   },
   "file_extension": ".py",
   "mimetype": "text/x-python",
   "name": "python",
   "nbconvert_exporter": "python",
   "pygments_lexer": "ipython3",
   "version": "3.10.0"
  }
 },
 "nbformat": 4,
 "nbformat_minor": 4
}
