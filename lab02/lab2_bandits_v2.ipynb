{
 "cells": [
  {
   "cell_type": "markdown",
   "metadata": {},
   "source": [
    "# Laboratorium 2 - wieloręcy bandyci\n",
    "\n",
    "## Przygotowanie\n",
    "\n",
    " * [opcjonalnie] Utwórz wirtualne środowisko\n",
    " `python3 -m venv ./recsyslab2`\n",
    " * zainstaluj potrzebne biblioteki:\n",
    " `pip3 install matplotlib tabulate`\n",
    " * upewnij się, że plik `bandit_framework.py` najduje się w tym samym katalogu"
   ]
  },
  {
   "cell_type": "markdown",
   "metadata": {},
   "source": [
    "## Część 1. - framework i naiwni bandyci"
   ]
  },
  {
   "cell_type": "code",
   "execution_count": 3,
   "metadata": {},
   "outputs": [
    {
     "name": "stderr",
     "output_type": "stream",
     "text": [
      "Matplotlib is building the font cache; this may take a moment.\n"
     ]
    }
   ],
   "source": [
    "# importujemy wszystkie potrzebne pakiety\n",
    "\n",
    "from copy import copy\n",
    "from itertools import product\n",
    "from math import log, sqrt\n",
    "from tabulate import tabulate\n",
    "from random import betavariate, normalvariate, random, sample, shuffle, uniform\n",
    "from bandit_framework import * # pakiet ze srodowiskiem testowym"
   ]
  },
  {
   "cell_type": "code",
   "execution_count": 4,
   "metadata": {},
   "outputs": [],
   "source": [
    "# inicjalizujemy parametry testu\n",
    "\n",
    "runs = 50\n",
    "epochs = 100\n",
    "recommendation_size = 10"
   ]
  },
  {
   "cell_type": "code",
   "execution_count": 5,
   "metadata": {},
   "outputs": [],
   "source": [
    "# inicjalizujemy ramiona bandytow - payout kazdego ramienia bedzie reprezentowany przez rozklad normalny\n",
    "#   te ramiona dobrze reprezentują CTR, czyli funkcje celu o rozkladzie Bernoulliego\n",
    "#   - mamy prawdopodobienstwo aktywacji (klikniecia) p i staly payout po kliknieciu\n",
    "# Mozemy takze przygotowac inne typy ramion, np. z payoutem losowanym z rozkladu normalnego lub wykladniczego\n",
    "\n",
    "good_arms = [Arm(f'good_{i}', uniform(0.5, 0.7), lambda: 1.0) for i in range(10)]\n",
    "bad_arms = [Arm(f'bad_{i}', uniform(0.1, 0.4), lambda: 1.0) for i in range(90)]\n",
    "arms = good_arms + bad_arms\n",
    "shuffle(arms)\n",
    "arms = {arm.arm_id: arm for arm in arms}\n",
    "arm_ids = list(arms.keys())"
   ]
  },
  {
   "cell_type": "code",
   "execution_count": 6,
   "metadata": {},
   "outputs": [
    {
     "name": "stdout",
     "output_type": "stream",
     "text": [
      "Expected highest average payout per epoch: 5.964587112110235\n"
     ]
    }
   ],
   "source": [
    "expected_highest_payout_per_epoch = sum(sorted([arm.activation_probability for arm in arms.values()], reverse=True)[:10])\n",
    "print(f'Expected highest average payout per epoch: {expected_highest_payout_per_epoch}')"
   ]
  },
  {
   "cell_type": "code",
   "execution_count": 7,
   "metadata": {},
   "outputs": [],
   "source": [
    "# pierwszy bandyta - wybiera losowe ramiona\n",
    "\n",
    "class Random(Bandit):\n",
    "    def __init__(self, bandit_id, arm_ids):\n",
    "        super().__init__(bandit_id, arm_ids)\n",
    "    \n",
    "    def recommend(self, size):\n",
    "        return sample(self.arm_ids, size)\n",
    "    \n",
    "    def feedback(self, arm_id, payout):\n",
    "        pass"
   ]
  },
  {
   "cell_type": "code",
   "execution_count": 8,
   "metadata": {},
   "outputs": [],
   "source": [
    "# ten bandyta oszukuje - zna mozliwosci kazdego z ramion i wybiera najelpsze - przyda nam sie do porownania\n",
    "\n",
    "class Perfect(Bandit):\n",
    "    def __init__(self, bandit_id, arm_ids, arms):\n",
    "        super().__init__(bandit_id, arm_ids)\n",
    "        self.arms = arms\n",
    "        self.expected_payouts = {}\n",
    "        for arm in arms.values():\n",
    "            self.expected_payouts[arm.arm_id] = self.__find_expected_value(arm.payout_function) * arm.activation_probability\n",
    "        self.arm_ids_sorted_by_expected_payout = [x[0] for x in sorted(self.expected_payouts.items(), key=lambda x: x[1], reverse=True)]\n",
    "\n",
    "    def recommend(self, size):\n",
    "        return self.arm_ids_sorted_by_expected_payout[:size]\n",
    "    \n",
    "    def feedback(self, arm_id, payout):\n",
    "        pass\n",
    "    \n",
    "    def __find_expected_value(self, payout_function, n=100000):\n",
    "        # brzydka, ale skuteczna sztuczka, zeby metoda brute-force znalezc wartosc oczekiwana\n",
    "        return sum([payout_function() for i in range(n)]) / n"
   ]
  },
  {
   "cell_type": "code",
   "execution_count": 9,
   "metadata": {},
   "outputs": [],
   "source": [
    "# tworzymy liste bandytow do przetestowania\n",
    "\n",
    "bandits = [\n",
    "    Random('random', arm_ids),\n",
    "    Perfect('perfect', arm_ids, arms)\n",
    "]"
   ]
  },
  {
   "cell_type": "code",
   "execution_count": 10,
   "metadata": {},
   "outputs": [
    {
     "name": "stdout",
     "output_type": "stream",
     "text": [
      "Simulating: random\n",
      "Simulating: perfect\n"
     ]
    }
   ],
   "source": [
    "# uruchamiamy test\n",
    "\n",
    "runner = Runner(arms, bandits)\n",
    "results = runner.simulate(runs, epochs, recommendation_size)"
   ]
  },
  {
   "cell_type": "code",
   "execution_count": 11,
   "metadata": {},
   "outputs": [
    {
     "name": "stdout",
     "output_type": "stream",
     "text": [
      "\n",
      "Aggregated results:\n",
      "\n",
      "perfect: 600.2600000000002\n",
      "random: 287.28000000000003\n"
     ]
    },
    {
     "data": {
      "image/png": "[encoded data removed]",
      "text/plain": [
       "<Figure size 640x480 with 1 Axes>"
      ]
     },
     "metadata": {},
     "output_type": "display_data"
    }
   ],
   "source": [
    "# wyniki sumaryczne dla wszystkich epok\n",
    "\n",
    "runner.plot_results(results, runs, epochs, mode='cumulative')"
   ]
  },
  {
   "cell_type": "code",
   "execution_count": null,
   "metadata": {},
   "outputs": [],
   "source": [
    "# wyniki per epoka\n",
    "\n",
    "runner.plot_results(results, runs, epochs, mode='average')"
   ]
  },
  {
   "cell_type": "markdown",
   "metadata": {},
   "source": [
    "## Część 2. - bandyci właściwi"
   ]
  },
  {
   "cell_type": "code",
   "execution_count": 13,
   "metadata": {},
   "outputs": [],
   "source": [
    "class EGreedy(Bandit):\n",
    "    def __init__(self, bandit_id: str, arm_ids: list[str], epsilon: float):\n",
    "        super().__init__(bandit_id, arm_ids)\n",
    "        self.epsilon = epsilon\n",
    "\n",
    "        self.impressions: dict[str, int] = {arm_id: 0 for arm_id in arm_ids}\n",
    "        self.clicks: dict[str, int] = {arm_id: 0 for arm_id in arm_ids}\n",
    "        self.ctr: dict[str, float] = {arm_id: 0.0 for arm_id in arm_ids}\n",
    "    \n",
    "    def recommend(self, size: int) -> list[str]:\n",
    "        raise NotImplementedError()\n",
    "    \n",
    "    def feedback(self, arm_id: str, payout: float) -> None:\n",
    "        self.clicks[arm_id] += int(payout)\n",
    "        raise NotImplementedError()"
   ]
  },
  {
   "cell_type": "code",
   "execution_count": null,
   "metadata": {},
   "outputs": [],
   "source": [
    "class UCB(Bandit):\n",
    "    def __init__(self, bandit_id, arm_ids, optimism_weight):\n",
    "        super().__init__(bandit_id, arm_ids)\n",
    "        self.optimism_weight = optimism_weight\n",
    "\n",
    "        self.impressions = {arm_id: 0 for arm_id in arm_ids}\n",
    "        self.clicks = {arm_id: 0 for arm_id in arm_ids}\n",
    "        self.ctr = {arm_id: 0.0 for arm_id in arm_ids}\n",
    "        self.total_impressions = 0\n",
    "    \n",
    "    def recommend(self, size):\n",
    "        raise NotImplementedError()\n",
    "    \n",
    "    def feedback(self, arm_id, payout):\n",
    "        raise NotImplementedError()\n",
    "\n",
    "    def _optimism(self, arm):\n",
    "        raise NotImplementedError()"
   ]
  },
  {
   "cell_type": "code",
   "execution_count": null,
   "metadata": {},
   "outputs": [],
   "source": [
    "class ThompsonSampling(Bandit):\n",
    "    def __init__(self, bandit_id, arm_ids, reward_multiplier, regret_multiplier):\n",
    "        super().__init__(bandit_id, arm_ids)\n",
    "        self.reward_multiplier = reward_multiplier\n",
    "        self.regret_multiplier = regret_multiplier\n",
    "        self.a = {arm_id: 1 for arm_id in arm_ids}\n",
    "        self.b = {arm_id: 1 for arm_id in arm_ids}\n",
    "    \n",
    "    def recommend(self, size):\n",
    "        raise NotImplementedError()\n",
    "    \n",
    "    def feedback(self, arm_id, payout):\n",
    "        raise NotImplementedError()"
   ]
  },
  {
   "cell_type": "markdown",
   "metadata": {},
   "source": [
    "## Część 3. - zgrubne porównanie bandytów"
   ]
  },
  {
   "cell_type": "code",
   "execution_count": null,
   "metadata": {},
   "outputs": [],
   "source": [
    "bandits = [\n",
    "    Random('random', arm_ids),\n",
    "    Perfect('perfect', arm_ids, arms)\n",
    "]\n",
    "# nie wahaj sie wybrac innych wartosci parametrow bandytow\n",
    "bandits.extend([EGreedy('egreedy_%s' % epsilon, arm_ids, epsilon) for epsilon in [0.01, 0.05, 0.1, 0.25]])\n",
    "bandits.extend([UCB('ucb_%s' % optimism_weight, arm_ids, optimism_weight) for optimism_weight in [0.01, 0.1, 1, 10]])\n",
    "bandits.extend([ThompsonSampling('ts_%s_%s' % (reward_weight, regret_weight), arm_ids, reward_weight, regret_weight)\n",
    "                for reward_weight, regret_weight in product([1, 5, 10, 20, 50], [1, 5, 10, 20, 50])])"
   ]
  },
  {
   "cell_type": "code",
   "execution_count": null,
   "metadata": {},
   "outputs": [],
   "source": [
    "runner = Runner(arms, bandits)\n",
    "results = runner.simulate(runs, epochs, recommendation_size)"
   ]
  },
  {
   "cell_type": "code",
   "execution_count": null,
   "metadata": {},
   "outputs": [],
   "source": [
    "runner.plot_results(results, runs, epochs, mode='average')"
   ]
  },
  {
   "cell_type": "code",
   "execution_count": null,
   "metadata": {},
   "outputs": [],
   "source": [
    "runner.plot_results(results, runs, epochs, mode='cumulative')"
   ]
  },
  {
   "cell_type": "markdown",
   "metadata": {},
   "source": [
    "## Część 4. - dokładne porównanie bandytów"
   ]
  },
  {
   "cell_type": "code",
   "execution_count": null,
   "metadata": {},
   "outputs": [],
   "source": [
    "# obliczmy liste wszystkich dobrych ramion (arm_id zaczyna sie od 'good_') w rekomendacji\n",
    "def relevant(recommendation: List[Arm]) -> int:\n",
    "    return len([arm for arm in recommendation if arm.arm_id.startswith('good')])\n",
    "\n",
    "all_relevant = relevant(arms.values())"
   ]
  },
  {
   "cell_type": "code",
   "execution_count": null,
   "metadata": {},
   "outputs": [],
   "source": [
    "# obliczmy precision@k i recall@k (na bazie funkcji relevant())\n",
    "def precision_at_k(recommendation: List[Arm], k: int) -> float:\n",
    "    raise NotImplementedError()\n",
    "\n",
    "def recall_at_k(recommendation: List[Arm], k: int, all_relevant: int) -> float:\n",
    "    raise NotImplementedError()"
   ]
  },
  {
   "cell_type": "code",
   "execution_count": null,
   "metadata": {},
   "outputs": [],
   "source": [
    "# sprawdzmy, czy dziala\n",
    "sample_bandit = bandits[-1]\n",
    "k = 3\n",
    "recommendation_ids = sample_bandit.recommend(recommendation_size)\n",
    "recommendation = [arms[arm_id] for arm_id in recommendation_ids]\n",
    "print(f'Precision@{k} for bandit {sample_bandit.bandit_id}: {precision_at_k(recommendation, k)}')\n",
    "print(f'Recall@{k} for bandit {sample_bandit.bandit_id}: {recall_at_k(recommendation, k, all_relevant)}')"
   ]
  },
  {
   "cell_type": "code",
   "execution_count": null,
   "metadata": {},
   "outputs": [],
   "source": [
    "class TestEntry():\n",
    "    def __init__(self, bandit_name: str, k: int, precision: float, recall: float):\n",
    "        self.bandit_name = bandit_name\n",
    "        self.k = k\n",
    "        self.precision = precision\n",
    "        self.recall = recall\n",
    "    \n",
    "    def tuple(self):\n",
    "        return (self.bandit_name, self.k, self.precision, self.recall)\n",
    "\n",
    "\n",
    "def print_test_results(entries: List[TestEntry]):\n",
    "    data = sorted(sorted([e.tuple() for e in entries], key=lambda e: e[1]), key=lambda e: e[0])\n",
    "    headers = ('bandit', 'k', 'precision@k', 'recall@k')\n",
    "    return tabulate(data, headers, tablefmt='github')"
   ]
  },
  {
   "cell_type": "code",
   "execution_count": null,
   "metadata": {},
   "outputs": [],
   "source": [
    "# wybieramy kilku istniejacych, wytrenowanych bandytow (perfect, random, po jednym e-greedy, UCB, TS)\n",
    "tesing_bandits = #...\n",
    "# wybieramy wartosci k do porownania\n",
    "k_vals = [3, 5, 10]\n",
    "# bedziemy liczyc sredni precision i recall dla `samples` rekomendacji\n",
    "samples = 10\n",
    "# miejsce na wyniki\n",
    "results = []\n",
    "\n",
    "# dla kazdego bandyty - genetujemy `samples` rekomendacji, liczymy precision i recall, zapisujemy srednie wartosci\n",
    "# powtarzamy dla kazdego k\n",
    "\n",
    "# uwaga! przed przeprowadzeniem porownania, bandyci musza sie nauczyc\n",
    "# pamietaj o uruchomieniu `runner.simulate()` w poprzedniej czesci\n",
    "\n",
    "raise NotImplementedError()\n",
    "\n",
    "print_test_results(results)"
   ]
  }
 ],
 "metadata": {
  "kernelspec": {
   "display_name": "Python 3",
   "language": "python",
   "name": "python3"
  },
  "language_info": {
   "codemirror_mode": {
    "name": "ipython",
    "version": 3
   },
   "file_extension": ".py",
   "mimetype": "text/x-python",
   "name": "python",
   "nbconvert_exporter": "python",
   "pygments_lexer": "ipython3",
   "version": "3.10.0"
  }
 },
 "nbformat": 4,
 "nbformat_minor": 4
}
